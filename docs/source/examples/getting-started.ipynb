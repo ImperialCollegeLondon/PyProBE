{
 "cells": [
  {
   "cell_type": "markdown",
   "metadata": {},
   "source": [
    "# Getting started with PyProBE"
   ]
  },
  {
   "cell_type": "code",
   "execution_count": 29,
   "metadata": {},
   "outputs": [],
   "source": [
    "%%capture\n",
    "%pip install matplotlib"
   ]
  },
  {
   "cell_type": "code",
   "execution_count": 30,
   "metadata": {},
   "outputs": [],
   "source": [
    "from pprint import pprint\n",
    "\n",
    "import pyprobe\n",
    "\n",
    "%matplotlib inline"
   ]
  },
  {
   "cell_type": "markdown",
   "metadata": {},
   "source": [
    "## Convert data to standard format"
   ]
  },
  {
   "cell_type": "markdown",
   "metadata": {},
   "source": [
    "Create the cell object and load some data. If this is the first time that the data has been loaded, it must first be converted into the standard format for PyProBE. The `import_from_cycler` method will then add the data directly to the `procedure` dictionary of the cell with the given `procedure_name` as its key."
   ]
  },
  {
   "cell_type": "code",
   "execution_count": 31,
   "metadata": {},
   "outputs": [],
   "source": [
    "# Describe the cell. Required fields are 'Name'.\n",
    "info_dictionary = {\n",
    "    \"Name\": \"Sample cell\",\n",
    "    \"Chemistry\": \"NMC622\",\n",
    "    \"Nominal Capacity [Ah]\": 0.04,\n",
    "    \"Cycler number\": 1,\n",
    "    \"Channel number\": 1,\n",
    "}\n",
    "\n",
    "# Create a cell object\n",
    "cell = pyprobe.Cell(info=info_dictionary)\n",
    "\n",
    "data_directory = \"../../../tests/sample_data/neware\"\n",
    "\n",
    "cell.import_from_cycler(\n",
    "    procedure_name=\"Sample\",\n",
    "    cycler=\"neware\",\n",
    "    input_data_path=data_directory + \"/sample_data_neware.xlsx\",\n",
    ")"
   ]
  },
  {
   "cell_type": "markdown",
   "metadata": {},
   "source": [
    "If a file named `README.yaml`, sits alongside your data, it will automatically be imported. You can also specify a custom path for this file. The README file contains descriptions of the experiments and steps in the procedure:"
   ]
  },
  {
   "cell_type": "code",
   "execution_count": 32,
   "metadata": {},
   "outputs": [
    {
     "name": "stdout",
     "output_type": "stream",
     "text": [
      "{'Break-in Cycles': {'Cycle': {'Count': 5, 'End': 7, 'Start': 4},\n",
      "                     'Steps': {4: 'Discharge at 4 mA until 3 V',\n",
      "                               5: 'Rest for 2 hours',\n",
      "                               6: 'Charge at 4 mA until 4.2 V, Hold at 4.2 V '\n",
      "                                  'until 0.04 A',\n",
      "                               7: 'Rest for 2 hours'}},\n",
      " 'Discharge Pulses': {'Cycle': {'Count': 10, 'End': 12, 'Start': 9},\n",
      "                      'Steps': {9: 'Rest for 10 seconds',\n",
      "                                10: 'Discharge at 20 mA for 0.2 hours or until '\n",
      "                                    '3 V',\n",
      "                                11: 'Rest for 30 minutes',\n",
      "                                12: 'Rest for 1.5 hours'}},\n",
      " 'Initial Charge': {'Steps': {1: 'Rest for 4 hours',\n",
      "                              2: 'Charge at 4mA until 4.2 V, Hold at 4.2 V '\n",
      "                                 'until 0.04 A',\n",
      "                              3: 'Rest for 2 hours'}}}\n"
     ]
    }
   ],
   "source": [
    "import yaml\n",
    "\n",
    "with open(data_directory + \"/README.yaml\") as f:\n",
    "    pprint(yaml.safe_load(f))"
   ]
  },
  {
   "cell_type": "markdown",
   "metadata": {},
   "source": [
    "Once loaded, these can be accessed through the `experiment_names` and `step_descriptions` attributes of the procedure:"
   ]
  },
  {
   "cell_type": "code",
   "execution_count": 33,
   "metadata": {},
   "outputs": [
    {
     "name": "stdout",
     "output_type": "stream",
     "text": [
      "Experiment names:  ['Initial Charge', 'Break-in Cycles', 'Discharge Pulses']\n",
      "Step Descriptions: \n",
      "{'Description': ['Rest for 4 hours',\n",
      "                 'Charge at 4mA until 4.2 V, Hold at 4.2 V until 0.04 A',\n",
      "                 'Rest for 2 hours',\n",
      "                 'Discharge at 4 mA until 3 V',\n",
      "                 'Rest for 2 hours',\n",
      "                 'Charge at 4 mA until 4.2 V, Hold at 4.2 V until 0.04 A',\n",
      "                 'Rest for 2 hours',\n",
      "                 'Rest for 10 seconds',\n",
      "                 'Discharge at 20 mA for 0.2 hours or until 3 V',\n",
      "                 'Rest for 30 minutes',\n",
      "                 'Rest for 1.5 hours'],\n",
      " 'Step': [1, 2, 3, 4, 5, 6, 7, 9, 10, 11, 12]}\n"
     ]
    }
   ],
   "source": [
    "print(\"Experiment names: \", cell.procedure[\"Sample\"].experiment_names)\n",
    "print(\"Step Descriptions: \")\n",
    "pprint(cell.procedure[\"Sample\"].step_descriptions)"
   ]
  },
  {
   "cell_type": "markdown",
   "metadata": {},
   "source": [
    "Alternatively, if you need to view data quickly and have not prepared a README file, the data will load without one (we will temporarily rename the README file to prevent it being automatically detected):"
   ]
  },
  {
   "cell_type": "code",
   "execution_count": 34,
   "metadata": {},
   "outputs": [],
   "source": [
    "import os\n",
    "\n",
    "os.rename(data_directory + \"/README.yaml\", data_directory + \"/README_bak.yaml\")\n",
    "cell.import_from_cycler(\n",
    "    procedure_name=\"Sample Quick\",\n",
    "    cycler=\"neware\",\n",
    "    input_data_path=data_directory + \"/sample_data_neware.xlsx\",\n",
    ")\n",
    "os.rename(data_directory + \"/README_bak.yaml\", data_directory + \"/README.yaml\")"
   ]
  },
  {
   "cell_type": "markdown",
   "metadata": {},
   "source": [
    "This procedure will have empty `experiment_names` and `step_descriptions` attributes:"
   ]
  },
  {
   "cell_type": "code",
   "execution_count": 35,
   "metadata": {},
   "outputs": [
    {
     "name": "stdout",
     "output_type": "stream",
     "text": [
      "Experiment names:  []\n",
      "Step Descriptions: \n",
      "{'Description': [], 'Step': []}\n"
     ]
    }
   ],
   "source": [
    "print(\"Experiment names: \", cell.procedure[\"Sample Quick\"].experiment_names)\n",
    "print(\"Step Descriptions: \")\n",
    "pprint(cell.procedure[\"Sample Quick\"].step_descriptions)"
   ]
  },
  {
   "cell_type": "markdown",
   "metadata": {},
   "source": [
    "The dashboard can be launched as soon as procedures have been added to the cell (uncomment to run when outside docs environment):"
   ]
  },
  {
   "cell_type": "code",
   "execution_count": 36,
   "metadata": {},
   "outputs": [],
   "source": [
    "# pyprobe.launch_dashboard([cell]) # noqa: ERA001"
   ]
  },
  {
   "cell_type": "markdown",
   "metadata": {},
   "source": [
    "The raw data is accessible as a dataframe with the data property:"
   ]
  },
  {
   "cell_type": "code",
   "execution_count": 37,
   "metadata": {},
   "outputs": [
    {
     "name": "stdout",
     "output_type": "stream",
     "text": [
      "shape: (789_589, 9)\n",
      "┌────────────┬──────┬───────┬─────────────┬───┬─────────────┬────────────┬────────────┬────────────┐\n",
      "│ Time [s]   ┆ Step ┆ Event ┆ Current [A] ┆ … ┆ Capacity    ┆ Date       ┆ Procedure  ┆ Procedure  │\n",
      "│ ---        ┆ ---  ┆ ---   ┆ ---         ┆   ┆ [Ah]        ┆ ---        ┆ Time [s]   ┆ Capacity   │\n",
      "│ f64        ┆ i64  ┆ i64   ┆ f64         ┆   ┆ ---         ┆ datetime[μ ┆ ---        ┆ [Ah]       │\n",
      "│            ┆      ┆       ┆             ┆   ┆ f64         ┆ s]         ┆ f64        ┆ ---        │\n",
      "│            ┆      ┆       ┆             ┆   ┆             ┆            ┆            ┆ f64        │\n",
      "╞════════════╪══════╪═══════╪═════════════╪═══╪═════════════╪════════════╪════════════╪════════════╡\n",
      "│ 0.0        ┆ 2    ┆ 0     ┆ 0.003999    ┆ … ┆ 0.04139     ┆ 2024-02-29 ┆ 0.0        ┆ 0.0        │\n",
      "│            ┆      ┆       ┆             ┆   ┆             ┆ 09:20:29.0 ┆            ┆            │\n",
      "│            ┆      ┆       ┆             ┆   ┆             ┆ 94         ┆            ┆            │\n",
      "│ 1.0        ┆ 2    ┆ 0     ┆ 0.004       ┆ … ┆ 0.041391    ┆ 2024-02-29 ┆ 1.0        ┆ 0.000001   │\n",
      "│            ┆      ┆       ┆             ┆   ┆             ┆ 09:20:30.0 ┆            ┆            │\n",
      "│            ┆      ┆       ┆             ┆   ┆             ┆ 94         ┆            ┆            │\n",
      "│ 2.0        ┆ 2    ┆ 0     ┆ 0.004       ┆ … ┆ 0.041392    ┆ 2024-02-29 ┆ 2.0        ┆ 0.000002   │\n",
      "│            ┆      ┆       ┆             ┆   ┆             ┆ 09:20:31.0 ┆            ┆            │\n",
      "│            ┆      ┆       ┆             ┆   ┆             ┆ 94         ┆            ┆            │\n",
      "│ 3.0        ┆ 2    ┆ 0     ┆ 0.004       ┆ … ┆ 0.041393    ┆ 2024-02-29 ┆ 3.0        ┆ 0.000003   │\n",
      "│            ┆      ┆       ┆             ┆   ┆             ┆ 09:20:32.0 ┆            ┆            │\n",
      "│            ┆      ┆       ┆             ┆   ┆             ┆ 94         ┆            ┆            │\n",
      "│ 4.0        ┆ 2    ┆ 0     ┆ 0.004       ┆ … ┆ 0.041395    ┆ 2024-02-29 ┆ 4.0        ┆ 0.000005   │\n",
      "│            ┆      ┆       ┆             ┆   ┆             ┆ 09:20:33.0 ┆            ┆            │\n",
      "│            ┆      ┆       ┆             ┆   ┆             ┆ 94         ┆            ┆            │\n",
      "│ …          ┆ …    ┆ …     ┆ …           ┆ … ┆ …           ┆ …          ┆ …          ┆ …          │\n",
      "│ 562745.497 ┆ 12   ┆ 61    ┆ 0.0         ┆ … ┆ 0.022805    ┆ 2024-03-06 ┆ 562745.497 ┆ -0.018585  │\n",
      "│            ┆      ┆       ┆             ┆   ┆             ┆ 21:39:34.5 ┆            ┆            │\n",
      "│            ┆      ┆       ┆             ┆   ┆             ┆ 91         ┆            ┆            │\n",
      "│ 562746.497 ┆ 12   ┆ 61    ┆ 0.0         ┆ … ┆ 0.022805    ┆ 2024-03-06 ┆ 562746.497 ┆ -0.018585  │\n",
      "│            ┆      ┆       ┆             ┆   ┆             ┆ 21:39:35.5 ┆            ┆            │\n",
      "│            ┆      ┆       ┆             ┆   ┆             ┆ 91         ┆            ┆            │\n",
      "│ 562747.497 ┆ 12   ┆ 61    ┆ 0.0         ┆ … ┆ 0.022805    ┆ 2024-03-06 ┆ 562747.497 ┆ -0.018585  │\n",
      "│            ┆      ┆       ┆             ┆   ┆             ┆ 21:39:36.5 ┆            ┆            │\n",
      "│            ┆      ┆       ┆             ┆   ┆             ┆ 91         ┆            ┆            │\n",
      "│ 562748.497 ┆ 12   ┆ 61    ┆ 0.0         ┆ … ┆ 0.022805    ┆ 2024-03-06 ┆ 562748.497 ┆ -0.018585  │\n",
      "│            ┆      ┆       ┆             ┆   ┆             ┆ 21:39:37.5 ┆            ┆            │\n",
      "│            ┆      ┆       ┆             ┆   ┆             ┆ 91         ┆            ┆            │\n",
      "│ 562749.497 ┆ 12   ┆ 61    ┆ 0.0         ┆ … ┆ 0.022805    ┆ 2024-03-06 ┆ 562749.497 ┆ -0.018585  │\n",
      "│            ┆      ┆       ┆             ┆   ┆             ┆ 21:39:38.5 ┆            ┆            │\n",
      "│            ┆      ┆       ┆             ┆   ┆             ┆ 91         ┆            ┆            │\n",
      "└────────────┴──────┴───────┴─────────────┴───┴─────────────┴────────────┴────────────┴────────────┘\n"
     ]
    }
   ],
   "source": [
    "print(cell.procedure[\"Sample\"].data)"
   ]
  },
  {
   "cell_type": "markdown",
   "metadata": {},
   "source": [
    "Individual columns can be returned as 1D numpy arrays with the `get()` method:"
   ]
  },
  {
   "cell_type": "code",
   "execution_count": 38,
   "metadata": {},
   "outputs": [
    {
     "name": "stdout",
     "output_type": "stream",
     "text": [
      "<class 'numpy.ndarray'> [0.00399931 0.00400001 0.00400004 ... 0.00040614 0.0004023  0.0004    ]\n"
     ]
    }
   ],
   "source": [
    "current = (\n",
    "    cell.procedure[\"Sample\"].experiment(\"Break-in Cycles\").charge(0).get(\"Current [A]\")\n",
    ")\n",
    "print(type(current), current)"
   ]
  },
  {
   "cell_type": "markdown",
   "metadata": {},
   "source": [
    "Multiple columns can be returned at once:"
   ]
  },
  {
   "cell_type": "code",
   "execution_count": 39,
   "metadata": {},
   "outputs": [
    {
     "name": "stdout",
     "output_type": "stream",
     "text": [
      "Current =  [0.00399931 0.00400001 0.00400004 ... 0.00040614 0.0004023  0.0004    ]\n",
      "Voltage =  [3.2895 3.2962 3.2979 ... 4.2001 4.2001 4.2001]\n"
     ]
    }
   ],
   "source": [
    "current, voltage = (\n",
    "    cell.procedure[\"Sample\"]\n",
    "    .experiment(\"Break-in Cycles\")\n",
    "    .charge(0)\n",
    "    .get(\"Current [A]\", \"Voltage [V]\")\n",
    ")\n",
    "print(\"Current = \", current)\n",
    "print(\"Voltage = \", voltage)"
   ]
  },
  {
   "cell_type": "markdown",
   "metadata": {},
   "source": [
    "A mistyped column will raise an error and suggest close matches if available:"
   ]
  },
  {
   "cell_type": "code",
   "execution_count": 42,
   "metadata": {},
   "outputs": [
    {
     "name": "stderr",
     "output_type": "stream",
     "text": [
      "\u001b[32m10:24:40\u001b[0m | \u001b[31m\u001b[1mERROR\u001b[0m | \u001b[36mpyprobe.result:get:365\u001b[0m - \u001b[31m\u001b[1mColumn \"Crrent [A]\" not found. Did you mean \"Current [A]\"?\u001b[0m | Context: {}\n",
      "\u001b[32m10:24:40\u001b[0m | \u001b[31m\u001b[1mERROR\u001b[0m | \u001b[36mpyprobe.result:get:365\u001b[0m - \u001b[31m\u001b[1mColumn \"Voltge [V]\" not found. Did you mean \"Voltage [V]\"?\u001b[0m | Context: {}\n"
     ]
    },
    {
     "ename": "ValueError",
     "evalue": "\n- Column \"Crrent [A]\" not found. Did you mean \"Current [A]\"?\n- Column \"Voltge [V]\" not found. Did you mean \"Voltage [V]\"?",
     "output_type": "error",
     "traceback": [
      "\u001b[31m---------------------------------------------------------------------------\u001b[39m",
      "\u001b[31mValueError\u001b[39m                                Traceback (most recent call last)",
      "\u001b[36mCell\u001b[39m\u001b[36m \u001b[39m\u001b[32mIn[42]\u001b[39m\u001b[32m, line 5\u001b[39m\n\u001b[32m      1\u001b[39m current, voltage = (\n\u001b[32m      2\u001b[39m     \u001b[43mcell\u001b[49m\u001b[43m.\u001b[49m\u001b[43mprocedure\u001b[49m\u001b[43m[\u001b[49m\u001b[33;43m\"\u001b[39;49m\u001b[33;43mSample\u001b[39;49m\u001b[33;43m\"\u001b[39;49m\u001b[43m]\u001b[49m\n\u001b[32m      3\u001b[39m \u001b[43m    \u001b[49m\u001b[43m.\u001b[49m\u001b[43mexperiment\u001b[49m\u001b[43m(\u001b[49m\u001b[33;43m\"\u001b[39;49m\u001b[33;43mBreak-in Cycles\u001b[39;49m\u001b[33;43m\"\u001b[39;49m\u001b[43m)\u001b[49m\n\u001b[32m      4\u001b[39m \u001b[43m    \u001b[49m\u001b[43m.\u001b[49m\u001b[43mcharge\u001b[49m\u001b[43m(\u001b[49m\u001b[32;43m0\u001b[39;49m\u001b[43m)\u001b[49m\n\u001b[32m----> \u001b[39m\u001b[32m5\u001b[39m \u001b[43m    \u001b[49m\u001b[43m.\u001b[49m\u001b[43mget\u001b[49m\u001b[43m(\u001b[49m\u001b[33;43m\"\u001b[39;49m\u001b[33;43mCrrent [A]\u001b[39;49m\u001b[33;43m\"\u001b[39;49m\u001b[43m,\u001b[49m\u001b[43m \u001b[49m\u001b[33;43m\"\u001b[39;49m\u001b[33;43mVoltge [V]\u001b[39;49m\u001b[33;43m\"\u001b[39;49m\u001b[43m)\u001b[49m\n\u001b[32m      6\u001b[39m )\n\u001b[32m      7\u001b[39m \u001b[38;5;28mprint\u001b[39m(\u001b[33m\"\u001b[39m\u001b[33mCurrent [A] = \u001b[39m\u001b[33m\"\u001b[39m, current)\n\u001b[32m      8\u001b[39m \u001b[38;5;28mprint\u001b[39m(\u001b[33m\"\u001b[39m\u001b[33mVoltage [V]= \u001b[39m\u001b[33m\"\u001b[39m, voltage)\n",
      "\u001b[36mFile \u001b[39m\u001b[32m~/PyProBE/pyprobe/result.py:371\u001b[39m, in \u001b[36mResult.get\u001b[39m\u001b[34m(self, *column_names)\u001b[39m\n\u001b[32m    369\u001b[39m         logger.error(error_msg)\n\u001b[32m    370\u001b[39m \u001b[38;5;28;01mif\u001b[39;00m error_msgs:\n\u001b[32m--> \u001b[39m\u001b[32m371\u001b[39m     \u001b[38;5;28;01mraise\u001b[39;00m \u001b[38;5;167;01mValueError\u001b[39;00m(\u001b[33m\"\u001b[39m\u001b[38;5;130;01m\\n\u001b[39;00m\u001b[33m\"\u001b[39m + \u001b[33m\"\u001b[39m\u001b[38;5;130;01m\\n\u001b[39;00m\u001b[33m\"\u001b[39m.join(\u001b[33mf\u001b[39m\u001b[33m\"\u001b[39m\u001b[33m- \u001b[39m\u001b[38;5;132;01m{\u001b[39;00mmsg\u001b[38;5;132;01m}\u001b[39;00m\u001b[33m\"\u001b[39m \u001b[38;5;28;01mfor\u001b[39;00m msg \u001b[38;5;129;01min\u001b[39;00m error_msgs))\n",
      "\u001b[31mValueError\u001b[39m: \n- Column \"Crrent [A]\" not found. Did you mean \"Current [A]\"?\n- Column \"Voltge [V]\" not found. Did you mean \"Voltage [V]\"?"
     ]
    }
   ],
   "source": [
    "current, voltage = (\n",
    "    cell.procedure[\"Sample\"]\n",
    "    .experiment(\"Break-in Cycles\")\n",
    "    .charge(0)\n",
    "    .get(\"Crrent [A]\", \"Voltge [V]\")\n",
    ")\n",
    "print(\"Current [A] = \", current)\n",
    "print(\"Voltage [V]= \", voltage)"
   ]
  },
  {
   "cell_type": "markdown",
   "metadata": {},
   "source": [
    "If the column is completely mistyped an error will be thrown and all available columns will be listed:"
   ]
  },
  {
   "cell_type": "code",
   "execution_count": null,
   "metadata": {},
   "outputs": [
    {
     "name": "stderr",
     "output_type": "stream",
     "text": [
      "\u001b[32m10:33:05\u001b[0m | \u001b[31m\u001b[1mERROR\u001b[0m | \u001b[36mpyprobe.result:get:369\u001b[0m - \u001b[31m\u001b[1mColumn \"valoolashaka\" not found and no close match found. Available columns: Step, Date, Event, Capacity [Ah], Voltage [V], Procedure Time [s], Current [A], Time [s], Procedure Capacity [Ah], Experiment Time [s], Experiment Capacity [Ah], Step Time [s], Step Capacity [Ah]\u001b[0m | Context: {}\n"
     ]
    },
    {
     "name": "stdout",
     "output_type": "stream",
     "text": [
      "<class 'NoneType'> None\n"
     ]
    }
   ],
   "source": [
    "voltage = (\n",
    "    cell.procedure[\"Sample\"].experiment(\"Break-in Cycles\").charge(0).get(\"valoolashaka\")\n",
    ")\n",
    "print(type(voltage), voltage)\n",
    "\n",
    "# Cutoff ratio (similarity limit) of 0.5 means most vaguely similar names will be matched, but totally different names will not."
   ]
  },
  {
   "cell_type": "markdown",
   "metadata": {},
   "source": [
    "And different unit can be returned on command:"
   ]
  },
  {
   "cell_type": "code",
   "execution_count": null,
   "metadata": {},
   "outputs": [
    {
     "name": "stderr",
     "output_type": "stream",
     "text": [
      "\u001b[32m10:15:03\u001b[0m | \u001b[31m\u001b[1mERROR\u001b[0m | \u001b[36mpyprobe.result:get:365\u001b[0m - \u001b[31m\u001b[1mColumn \"Current [mA]\" not found. Did you mean \"Current [A]\"?\u001b[0m | Context: {}\n"
     ]
    },
    {
     "ename": "ValueError",
     "evalue": "\n- Column \"Current [mA]\" not found. Did you mean \"Current [A]\"?",
     "output_type": "error",
     "traceback": [
      "\u001b[31m---------------------------------------------------------------------------\u001b[39m",
      "\u001b[31mValueError\u001b[39m                                Traceback (most recent call last)",
      "\u001b[36mCell\u001b[39m\u001b[36m \u001b[39m\u001b[32mIn[26]\u001b[39m\u001b[32m, line 2\u001b[39m\n\u001b[32m      1\u001b[39m current_mA = (\n\u001b[32m----> \u001b[39m\u001b[32m2\u001b[39m     \u001b[43mcell\u001b[49m\u001b[43m.\u001b[49m\u001b[43mprocedure\u001b[49m\u001b[43m[\u001b[49m\u001b[33;43m\"\u001b[39;49m\u001b[33;43mSample\u001b[39;49m\u001b[33;43m\"\u001b[39;49m\u001b[43m]\u001b[49m\u001b[43m.\u001b[49m\u001b[43mexperiment\u001b[49m\u001b[43m(\u001b[49m\u001b[33;43m\"\u001b[39;49m\u001b[33;43mBreak-in Cycles\u001b[39;49m\u001b[33;43m\"\u001b[39;49m\u001b[43m)\u001b[49m\u001b[43m.\u001b[49m\u001b[43mcharge\u001b[49m\u001b[43m(\u001b[49m\u001b[32;43m0\u001b[39;49m\u001b[43m)\u001b[49m\u001b[43m.\u001b[49m\u001b[43mget\u001b[49m\u001b[43m(\u001b[49m\u001b[33;43m\"\u001b[39;49m\u001b[33;43mCurrent [mA]\u001b[39;49m\u001b[33;43m\"\u001b[39;49m\u001b[43m)\u001b[49m\n\u001b[32m      3\u001b[39m )\n\u001b[32m      4\u001b[39m \u001b[38;5;28mprint\u001b[39m(\u001b[33m\"\u001b[39m\u001b[33mCurrent [mA] = \u001b[39m\u001b[33m\"\u001b[39m, current_mA)\n",
      "\u001b[36mFile \u001b[39m\u001b[32m~/PyProBE/pyprobe/result.py:371\u001b[39m, in \u001b[36mResult.get\u001b[39m\u001b[34m(self, *column_names)\u001b[39m\n\u001b[32m    369\u001b[39m         logger.error(error_msg)\n\u001b[32m    370\u001b[39m \u001b[38;5;28;01mif\u001b[39;00m error_msgs:\n\u001b[32m--> \u001b[39m\u001b[32m371\u001b[39m     \u001b[38;5;28;01mraise\u001b[39;00m \u001b[38;5;167;01mValueError\u001b[39;00m(\u001b[33m\"\u001b[39m\u001b[38;5;130;01m\\n\u001b[39;00m\u001b[33m\"\u001b[39m + \u001b[33m\"\u001b[39m\u001b[38;5;130;01m\\n\u001b[39;00m\u001b[33m\"\u001b[39m.join(\u001b[33mf\u001b[39m\u001b[33m\"\u001b[39m\u001b[33m- \u001b[39m\u001b[38;5;132;01m{\u001b[39;00mmsg\u001b[38;5;132;01m}\u001b[39;00m\u001b[33m\"\u001b[39m \u001b[38;5;28;01mfor\u001b[39;00m msg \u001b[38;5;129;01min\u001b[39;00m error_msgs))\n",
      "\u001b[31mValueError\u001b[39m: \n- Column \"Current [mA]\" not found. Did you mean \"Current [A]\"?"
     ]
    }
   ],
   "source": [
    "current_mA = (\n",
    "    cell.procedure[\"Sample\"].experiment(\"Break-in Cycles\").charge(0).get(\"Current [mA]\")\n",
    ")\n",
    "print(\"Current [mA] = \", current_mA)"
   ]
  },
  {
   "cell_type": "markdown",
   "metadata": {},
   "source": [
    "Any part of the procedure can be plotted quickly using the ```plot``` method:"
   ]
  },
  {
   "cell_type": "code",
   "execution_count": null,
   "metadata": {},
   "outputs": [],
   "source": [
    "cell.procedure[\"Sample\"].experiment(\"Break-in Cycles\").plot(\n",
    "    x=\"Experiment Time [s]\",\n",
    "    y=\"Voltage [V]\",\n",
    ")"
   ]
  },
  {
   "cell_type": "markdown",
   "metadata": {},
   "source": [
    "We can use the `analysis` to further analyse the data. For the `'Break-in Cycles'` we will use the `cycling` analysis module and the functions within. These functions return `Result` objects, so they can be interacted with in the same ways as raw data:"
   ]
  },
  {
   "cell_type": "code",
   "execution_count": null,
   "metadata": {},
   "outputs": [],
   "source": [
    "from pyprobe.analysis import cycling\n",
    "\n",
    "cycling_summary = cycling.summary(\n",
    "    input_data=cell.procedure[\"Sample\"].experiment(\"Break-in Cycles\"),\n",
    ")\n",
    "print(type(cycling_summary))\n",
    "\n",
    "print(cycling_summary.data)"
   ]
  },
  {
   "cell_type": "markdown",
   "metadata": {},
   "source": [
    "And it can be plotted as normal too:"
   ]
  },
  {
   "cell_type": "code",
   "execution_count": null,
   "metadata": {},
   "outputs": [],
   "source": [
    "cycling_summary.plot(x=\"Capacity Throughput [Ah]\", y=\"Discharge Capacity [mAh]\")"
   ]
  },
  {
   "cell_type": "markdown",
   "metadata": {},
   "source": [
    "As the procedure that we imported without a README file does not contain experiment information, the `Break-in Cycles` will not work on it:"
   ]
  },
  {
   "cell_type": "code",
   "execution_count": null,
   "metadata": {
    "tags": [
     "raises-exception"
    ]
   },
   "outputs": [],
   "source": [
    "cycling_summary = cycling.summary(\n",
    "    input_data=cell.procedure[\"Sample Quick\"].experiment(\"Break-in Cycles\"),\n",
    ")"
   ]
  },
  {
   "cell_type": "markdown",
   "metadata": {},
   "source": [
    "However, all other filters will still work as expected."
   ]
  }
 ],
 "metadata": {
  "kernelspec": {
   "display_name": "pyprobe-data",
   "language": "python",
   "name": "python3"
  },
  "language_info": {
   "codemirror_mode": {
    "name": "ipython",
    "version": 3
   },
   "file_extension": ".py",
   "mimetype": "text/x-python",
   "name": "python",
   "nbconvert_exporter": "python",
   "pygments_lexer": "ipython3",
   "version": "3.11.13"
  }
 },
 "nbformat": 4,
 "nbformat_minor": 2
}
